{
 "cells": [
  {
   "cell_type": "markdown",
   "metadata": {},
   "source": [
    "# ch.3 - 평가(Evaluation)"
   ]
  },
  {
   "cell_type": "code",
   "execution_count": 1,
   "metadata": {},
   "outputs": [],
   "source": [
    "from sklearn.base import BaseEstimator\n",
    "\n",
    "class MyDummyClassifier(BaseEstimator):\n",
    "    def fit(self, X, y = None):\n",
    "        pass\n",
    "    \n",
    "    def predict(self, X):\n",
    "        pred = np.zeros((X.shape[0], 1))\n",
    "        for i in range(X.shape[0]):\n",
    "            if X['Sex'].iloc[i] == 1:\n",
    "                pred[i] = 0\n",
    "            else:\n",
    "                pred[i] = 1\n",
    "        return pred"
   ]
  },
  {
   "cell_type": "code",
   "execution_count": 17,
   "metadata": {},
   "outputs": [],
   "source": [
    "def fillna(df):\n",
    "    df['Age'].fillna(df['Age'].mean(), inplace = True)\n",
    "    df['Cabin'].fillna('N', inplace = True)\n",
    "    df['Embarked'].fillna('N', inplace = True)\n",
    "    df['Fare'].fillna(0, inplace = True)\n",
    "    return df"
   ]
  },
  {
   "cell_type": "code",
   "execution_count": 4,
   "metadata": {},
   "outputs": [],
   "source": [
    "def drop_features(df):\n",
    "    df.drop(['PassengerId', 'Name', 'Ticket'], axis = 1, inplace = True)\n",
    "    return df"
   ]
  },
  {
   "cell_type": "code",
   "execution_count": 19,
   "metadata": {},
   "outputs": [],
   "source": [
    "def format_features(df):\n",
    "    from sklearn.preprocessing import LabelEncoder\n",
    "    df['Cabin'] = df['Cabin'].str[:1]\n",
    "    features = ['Cabin', 'Sex', 'Embarked']\n",
    "    for feature in features:\n",
    "        le = LabelEncoder()\n",
    "        le = le.fit(df[feature])\n",
    "        df[feature] = le.transform(df[feature])\n",
    "    return df"
   ]
  },
  {
   "cell_type": "code",
   "execution_count": 20,
   "metadata": {},
   "outputs": [],
   "source": [
    "def transform_features(df):\n",
    "    df = fillna(df)\n",
    "    df = drop_features(df)\n",
    "    df = format_features(df)\n",
    "    return df"
   ]
  },
  {
   "cell_type": "code",
   "execution_count": 21,
   "metadata": {},
   "outputs": [],
   "source": [
    "import pandas as pd"
   ]
  },
  {
   "cell_type": "code",
   "execution_count": 22,
   "metadata": {},
   "outputs": [],
   "source": [
    "from sklearn.model_selection import train_test_split\n",
    "from sklearn.metrics import accuracy_score\n",
    "\n",
    "titanic_df = pd.read_csv('data/titanic/train.csv')\n",
    "y_titanic_df = titanic_df['Survived']\n",
    "X_titanic_df = titanic_df.drop('Survived', axis = 1)\n",
    "X_titanic_df = transform_features(X_titanic_df)\n",
    "X_train, X_test, y_train, y_test = train_test_split(X_titanic_df, y_titanic_df,\n",
    "                                                    test_size = 0.2, random_state = 0)"
   ]
  },
  {
   "cell_type": "code",
   "execution_count": 23,
   "metadata": {},
   "outputs": [],
   "source": [
    "from sklearn.datasets import load_digits\n",
    "import numpy as np"
   ]
  },
  {
   "cell_type": "code",
   "execution_count": 25,
   "metadata": {},
   "outputs": [],
   "source": [
    "class MyDummyClassifier(BaseEstimator):\n",
    "    def fit(self, X, y = None):\n",
    "        pass\n",
    "\n",
    "    def predict(self, X):\n",
    "        return np.zeros((len(X), 1), dtype = bool)\n",
    "\n",
    "digits = load_digits()\n",
    "\n",
    "# digits 번호가 7번이면 True, 이를 astype(int)로 1로 변환 아니면 0\n",
    "y = (digits.target ==7).astype(int)\n",
    "X_tran, X_test, y_train, y_test = train_test_split(digits.data, y, random_state=11)"
   ]
  },
  {
   "cell_type": "code",
   "execution_count": 26,
   "metadata": {},
   "outputs": [
    {
     "name": "stdout",
     "output_type": "stream",
     "text": [
      "(450,)\n",
      "\n",
      "0    405\n",
      "1     45\n",
      "dtype: int64\n"
     ]
    }
   ],
   "source": [
    "print(y_test.shape)\n",
    "print()\n",
    "print(pd.Series(y_test).value_counts())"
   ]
  },
  {
   "cell_type": "code",
   "execution_count": 28,
   "metadata": {},
   "outputs": [
    {
     "data": {
      "text/plain": [
       "0.9"
      ]
     },
     "execution_count": 28,
     "metadata": {},
     "output_type": "execute_result"
    }
   ],
   "source": [
    "fakeclf = MyDummyClassifier()\n",
    "fakeclf.fit(X_train, y_train)\n",
    "fakepred = fakeclf.predict(X_test)\n",
    "\n",
    "accuracy_score(y_test, fakepred)"
   ]
  },
  {
   "cell_type": "code",
   "execution_count": 30,
   "metadata": {},
   "outputs": [
    {
     "data": {
      "text/plain": [
       "array([[405,   0],\n",
       "       [ 45,   0]], dtype=int64)"
      ]
     },
     "execution_count": 30,
     "metadata": {},
     "output_type": "execute_result"
    }
   ],
   "source": [
    "from sklearn.metrics import confusion_matrix\n",
    "# confusion 매트릭스 출력\n",
    "confusion_matrix(y_test, fakepred)"
   ]
  },
  {
   "cell_type": "code",
   "execution_count": 34,
   "metadata": {},
   "outputs": [
    {
     "data": {
      "text/plain": [
       "array([[405,   0],\n",
       "       [ 45,   0]], dtype=int64)"
      ]
     },
     "execution_count": 34,
     "metadata": {},
     "output_type": "execute_result"
    }
   ],
   "source": [
    "# 다른 방법\n",
    "import sklearn.metrics as skm\n",
    "skm.confusion_matrix(y_test, fakepred)"
   ]
  },
  {
   "cell_type": "code",
   "execution_count": 35,
   "metadata": {},
   "outputs": [],
   "source": [
    "from sklearn.metrics import accuracy_score, precision_score, recall_score, confusion_matrix"
   ]
  },
  {
   "cell_type": "code",
   "execution_count": 36,
   "metadata": {},
   "outputs": [],
   "source": [
    "def get_clf_eval(y_test, pred):\n",
    "    confusion = confusion_matrix(y_test, pred)\n",
    "    accuracy = accuracy_score(y_test, pred)\n",
    "    precision = precision_score(y_test, pred)\n",
    "    recall = recall_score(y_test, pred)\n",
    "    print(confusion)\n",
    "    print('정확도: {0:.4f}, 정밀도: {1:.4f}, 재현율: {2:.4f}'.format(accuracy, precision, recall))"
   ]
  },
  {
   "cell_type": "code",
   "execution_count": 37,
   "metadata": {},
   "outputs": [],
   "source": [
    "from sklearn.linear_model import LogisticRegression"
   ]
  },
  {
   "cell_type": "code",
   "execution_count": 40,
   "metadata": {},
   "outputs": [
    {
     "name": "stdout",
     "output_type": "stream",
     "text": [
      "[[104  14]\n",
      " [ 13  48]]\n",
      "정확도: 0.8492, 정밀도: 0.7742, 재현율: 0.7869\n"
     ]
    },
    {
     "name": "stderr",
     "output_type": "stream",
     "text": [
      "C:\\ProgramData\\Anaconda3\\lib\\site-packages\\sklearn\\linear_model\\_logistic.py:940: ConvergenceWarning: lbfgs failed to converge (status=1):\n",
      "STOP: TOTAL NO. of ITERATIONS REACHED LIMIT.\n",
      "\n",
      "Increase the number of iterations (max_iter) or scale the data as shown in:\n",
      "    https://scikit-learn.org/stable/modules/preprocessing.html\n",
      "Please also refer to the documentation for alternative solver options:\n",
      "    https://scikit-learn.org/stable/modules/linear_model.html#logistic-regression\n",
      "  extra_warning_msg=_LOGISTIC_SOLVER_CONVERGENCE_MSG)\n"
     ]
    }
   ],
   "source": [
    "X_train, X_test, y_train, y_test = train_test_split(X_titanic_df, y_titanic_df,\n",
    "                                                    test_size = 0.2, random_state = 11)\n",
    "lr_clf = LogisticRegression()\n",
    "lr_clf.fit(X_train, y_train)\n",
    "pred = lr_clf.predict(X_test)\n",
    "get_clf_eval(y_test, pred)"
   ]
  },
  {
   "cell_type": "markdown",
   "metadata": {},
   "source": [
    "### Precision/Recall Trade-off"
   ]
  },
  {
   "cell_type": "code",
   "execution_count": 43,
   "metadata": {},
   "outputs": [
    {
     "data": {
      "text/plain": [
       "array([[0.4616653 , 0.5383347 ],\n",
       "       [0.87862763, 0.12137237],\n",
       "       [0.87727002, 0.12272998],\n",
       "       [0.88283621, 0.11716379],\n",
       "       [0.85508952, 0.14491048],\n",
       "       [0.88231157, 0.11768843],\n",
       "       [0.88838988, 0.11161012],\n",
       "       [0.20916926, 0.79083074],\n",
       "       [0.78258628, 0.21741372],\n",
       "       [0.36993909, 0.63006091],\n",
       "       [0.89988359, 0.10011641],\n",
       "       [0.87482056, 0.12517944],\n",
       "       [0.87726414, 0.12273586],\n",
       "       [0.88834471, 0.11165529],\n",
       "       [0.43495818, 0.56504182],\n",
       "       [0.85888537, 0.14111463],\n",
       "       [0.9037587 , 0.0962413 ],\n",
       "       [0.73319742, 0.26680258],\n",
       "       [0.72417011, 0.27582989],\n",
       "       [0.17255821, 0.82744179],\n",
       "       [0.75341614, 0.24658386],\n",
       "       [0.61951539, 0.38048461],\n",
       "       [0.85451436, 0.14548564],\n",
       "       [0.81519357, 0.18480643],\n",
       "       [0.88797994, 0.11202006],\n",
       "       [0.76533031, 0.23466969],\n",
       "       [0.85969194, 0.14030806],\n",
       "       [0.92608161, 0.07391839],\n",
       "       [0.71933832, 0.28066168],\n",
       "       [0.69482833, 0.30517167],\n",
       "       [0.05265215, 0.94734785],\n",
       "       [0.18218452, 0.81781548],\n",
       "       [0.87342764, 0.12657236],\n",
       "       [0.17444334, 0.82555666],\n",
       "       [0.60039903, 0.39960097],\n",
       "       [0.76533031, 0.23466969],\n",
       "       [0.92770628, 0.07229372],\n",
       "       [0.38856768, 0.61143232],\n",
       "       [0.94700636, 0.05299364],\n",
       "       [0.89606698, 0.10393302],\n",
       "       [0.64979315, 0.35020685],\n",
       "       [0.91687904, 0.08312096],\n",
       "       [0.17785026, 0.82214974],\n",
       "       [0.29217043, 0.70782957],\n",
       "       [0.36972173, 0.63027827],\n",
       "       [0.36970571, 0.63029429],\n",
       "       [0.08134084, 0.91865916],\n",
       "       [0.64356261, 0.35643739],\n",
       "       [0.05107107, 0.94892893],\n",
       "       [0.88794595, 0.11205405],\n",
       "       [0.40552739, 0.59447261],\n",
       "       [0.88834471, 0.11165529],\n",
       "       [0.86713139, 0.13286861],\n",
       "       [0.2752142 , 0.7247858 ],\n",
       "       [0.69034518, 0.30965482],\n",
       "       [0.80336908, 0.19663092],\n",
       "       [0.77339578, 0.22660422],\n",
       "       [0.87726899, 0.12273101],\n",
       "       [0.84567023, 0.15432977],\n",
       "       [0.567331  , 0.432669  ],\n",
       "       [0.7196256 , 0.2803744 ],\n",
       "       [0.89912834, 0.10087166],\n",
       "       [0.4531912 , 0.5468088 ],\n",
       "       [0.48659488, 0.51340512],\n",
       "       [0.55525453, 0.44474547],\n",
       "       [0.90540205, 0.09459795],\n",
       "       [0.33300938, 0.66699062],\n",
       "       [0.405798  , 0.594202  ],\n",
       "       [0.04802869, 0.95197131],\n",
       "       [0.85227085, 0.14772915],\n",
       "       [0.87091694, 0.12908306],\n",
       "       [0.83139387, 0.16860613],\n",
       "       [0.89606477, 0.10393523],\n",
       "       [0.05210655, 0.94789345],\n",
       "       [0.80129197, 0.19870803],\n",
       "       [0.88834471, 0.11165529],\n",
       "       [0.65119863, 0.34880137],\n",
       "       [0.81631432, 0.18368568],\n",
       "       [0.1641845 , 0.8358155 ],\n",
       "       [0.87726899, 0.12273101],\n",
       "       [0.20478201, 0.79521799],\n",
       "       [0.35636331, 0.64363669],\n",
       "       [0.06916504, 0.93083496],\n",
       "       [0.86679209, 0.13320791],\n",
       "       [0.05082798, 0.94917202],\n",
       "       [0.04927439, 0.95072561],\n",
       "       [0.84692967, 0.15307033],\n",
       "       [0.87462061, 0.12537939],\n",
       "       [0.12576591, 0.87423409],\n",
       "       [0.88834471, 0.11165529],\n",
       "       [0.88834471, 0.11165529],\n",
       "       [0.76533031, 0.23466969],\n",
       "       [0.76796732, 0.23203268],\n",
       "       [0.88834471, 0.11165529],\n",
       "       [0.36970571, 0.63029429],\n",
       "       [0.92431193, 0.07568807],\n",
       "       [0.07114316, 0.92885684],\n",
       "       [0.89927326, 0.10072674],\n",
       "       [0.49284253, 0.50715747],\n",
       "       [0.03482499, 0.96517501],\n",
       "       [0.49887769, 0.50112231],\n",
       "       [0.90528473, 0.09471527],\n",
       "       [0.05182599, 0.94817401],\n",
       "       [0.90245157, 0.09754843],\n",
       "       [0.47024934, 0.52975066],\n",
       "       [0.8715469 , 0.1284531 ],\n",
       "       [0.85883907, 0.14116093],\n",
       "       [0.85227115, 0.14772885],\n",
       "       [0.55063838, 0.44936162],\n",
       "       [0.89264243, 0.10735757],\n",
       "       [0.88301917, 0.11698083],\n",
       "       [0.89108421, 0.10891579],\n",
       "       [0.5961089 , 0.4038911 ],\n",
       "       [0.34562047, 0.65437953],\n",
       "       [0.88797994, 0.11202006],\n",
       "       [0.92886443, 0.07113557],\n",
       "       [0.87568437, 0.12431563],\n",
       "       [0.80151851, 0.19848149],\n",
       "       [0.07408816, 0.92591184],\n",
       "       [0.93137314, 0.06862686],\n",
       "       [0.88835342, 0.11164658],\n",
       "       [0.86952314, 0.13047686],\n",
       "       [0.93652783, 0.06347217],\n",
       "       [0.6796694 , 0.3203306 ],\n",
       "       [0.98837423, 0.01162577],\n",
       "       [0.88835342, 0.11164658],\n",
       "       [0.8838315 , 0.1161685 ],\n",
       "       [0.68302867, 0.31697133],\n",
       "       [0.32252619, 0.67747381],\n",
       "       [0.67816184, 0.32183816],\n",
       "       [0.03482499, 0.96517501],\n",
       "       [0.54534337, 0.45465663],\n",
       "       [0.26501474, 0.73498526],\n",
       "       [0.56030935, 0.43969065],\n",
       "       [0.42981665, 0.57018335],\n",
       "       [0.65153352, 0.34846648],\n",
       "       [0.25188893, 0.74811107],\n",
       "       [0.81350687, 0.18649313],\n",
       "       [0.89604002, 0.10395998],\n",
       "       [0.1970313 , 0.8029687 ],\n",
       "       [0.09102184, 0.90897816],\n",
       "       [0.85227115, 0.14772885],\n",
       "       [0.88206895, 0.11793105],\n",
       "       [0.89881602, 0.10118398],\n",
       "       [0.90837231, 0.09162769],\n",
       "       [0.33300139, 0.66699861],\n",
       "       [0.92435623, 0.07564377],\n",
       "       [0.76629675, 0.23370325],\n",
       "       [0.08143357, 0.91856643],\n",
       "       [0.83165574, 0.16834426],\n",
       "       [0.57095053, 0.42904947],\n",
       "       [0.36919657, 0.63080343],\n",
       "       [0.36297759, 0.63702241],\n",
       "       [0.87732364, 0.12267636],\n",
       "       [0.22194663, 0.77805337],\n",
       "       [0.11902243, 0.88097757],\n",
       "       [0.51114472, 0.48885528],\n",
       "       [0.86697059, 0.13302941],\n",
       "       [0.24901149, 0.75098851],\n",
       "       [0.30962207, 0.69037793],\n",
       "       [0.85010991, 0.14989009],\n",
       "       [0.20757902, 0.79242098],\n",
       "       [0.90872691, 0.09127309],\n",
       "       [0.33307577, 0.66692423],\n",
       "       [0.61972611, 0.38027389],\n",
       "       [0.34853313, 0.65146687],\n",
       "       [0.11605976, 0.88394024],\n",
       "       [0.69083685, 0.30916315],\n",
       "       [0.90835336, 0.09164664],\n",
       "       [0.10658416, 0.89341584],\n",
       "       [0.88838988, 0.11161012],\n",
       "       [0.14536833, 0.85463167],\n",
       "       [0.74976957, 0.25023043],\n",
       "       [0.75943956, 0.24056044],\n",
       "       [0.60190851, 0.39809149],\n",
       "       [0.93773464, 0.06226536],\n",
       "       [0.85883217, 0.14116783],\n",
       "       [0.45374857, 0.54625143],\n",
       "       [0.37240425, 0.62759575]])"
      ]
     },
     "execution_count": 43,
     "metadata": {},
     "output_type": "execute_result"
    }
   ],
   "source": [
    "# 0일 확률 /// 1일 확률\n",
    "pred_proba = lr_clf.predict_proba(X_test)\n",
    "pred_proba"
   ]
  },
  {
   "cell_type": "code",
   "execution_count": 44,
   "metadata": {},
   "outputs": [
    {
     "data": {
      "text/plain": [
       "array([1, 0, 0, 0, 0, 0, 0, 1, 0, 1, 0, 0, 0, 0, 1, 0, 0, 0, 0, 1, 0, 0,\n",
       "       0, 0, 0, 0, 0, 0, 0, 0, 1, 1, 0, 1, 0, 0, 0, 1, 0, 0, 0, 0, 1, 1,\n",
       "       1, 1, 1, 0, 1, 0, 1, 0, 0, 1, 0, 0, 0, 0, 0, 0, 0, 0, 1, 1, 0, 0,\n",
       "       1, 1, 1, 0, 0, 0, 0, 1, 0, 0, 0, 0, 1, 0, 1, 1, 1, 0, 1, 1, 0, 0,\n",
       "       1, 0, 0, 0, 0, 0, 1, 0, 1, 0, 1, 1, 1, 0, 1, 0, 1, 0, 0, 0, 0, 0,\n",
       "       0, 0, 0, 1, 0, 0, 0, 0, 1, 0, 0, 0, 0, 0, 0, 0, 0, 0, 1, 0, 1, 0,\n",
       "       1, 0, 1, 0, 1, 0, 0, 1, 1, 0, 0, 0, 0, 1, 0, 0, 1, 0, 0, 1, 1, 0,\n",
       "       1, 1, 0, 0, 1, 1, 0, 1, 0, 1, 0, 1, 1, 0, 0, 1, 0, 1, 0, 0, 0, 0,\n",
       "       0, 1, 1], dtype=int64)"
      ]
     },
     "execution_count": 44,
     "metadata": {},
     "output_type": "execute_result"
    }
   ],
   "source": [
    "pred"
   ]
  },
  {
   "cell_type": "code",
   "execution_count": 46,
   "metadata": {},
   "outputs": [
    {
     "name": "stdout",
     "output_type": "stream",
     "text": [
      "[[0. 0. 1.]\n",
      " [1. 0. 0.]\n",
      " [0. 0. 1.]]\n"
     ]
    }
   ],
   "source": [
    "from sklearn.preprocessing import Binarizer\n",
    "\n",
    "X = [[1, -1, 2],\n",
    "     [2, 0, 0],\n",
    "     [0, 1.1, 1.2]]\n",
    "\n",
    "# threshold 기준값보다 같거나 작으면 0을, 크면 1을 반환\n",
    "binarizer = Binarizer(threshold = 1.1)\n",
    "print(binarizer.fit_transform(X))"
   ]
  },
  {
   "cell_type": "code",
   "execution_count": 49,
   "metadata": {},
   "outputs": [
    {
     "name": "stdout",
     "output_type": "stream",
     "text": [
      "[[104  14]\n",
      " [ 13  48]]\n",
      "정확도: 0.8492, 정밀도: 0.7742, 재현율: 0.7869\n"
     ]
    }
   ],
   "source": [
    "# 기준값을 0.5로 설정하고 예측\n",
    "custom_threshold = 0.5\n",
    "\n",
    "pred_proba_1 = pred_proba[:, 1].reshape(-1, 1)\n",
    "\n",
    "binarizer = Binarizer(threshold = custom_threshold)\n",
    "custom_predict = binarizer.fit_transform(pred_proba_1)\n",
    "\n",
    "get_clf_eval(y_test, custom_predict)"
   ]
  },
  {
   "cell_type": "code",
   "execution_count": 51,
   "metadata": {},
   "outputs": [
    {
     "name": "stdout",
     "output_type": "stream",
     "text": [
      "[[99 19]\n",
      " [10 51]]\n",
      "정확도: 0.8380, 정밀도: 0.7286, 재현율: 0.8361\n"
     ]
    }
   ],
   "source": [
    "# 기준값을 0.4로 설정하고 예측 => True로 예측할 확률이 늘어남 => 정밀도는 감소, 재현율은 증가\n",
    "custom_threshold = 0.4\n",
    "\n",
    "pred_proba_1 = pred_proba[:, 1].reshape(-1, 1)\n",
    "\n",
    "binarizer = Binarizer(threshold = custom_threshold)\n",
    "custom_predict = binarizer.fit_transform(pred_proba_1)\n",
    "\n",
    "get_clf_eval(y_test, custom_predict)"
   ]
  },
  {
   "cell_type": "markdown",
   "metadata": {},
   "source": [
    "### F1 Score"
   ]
  },
  {
   "cell_type": "code",
   "execution_count": 52,
   "metadata": {},
   "outputs": [
    {
     "name": "stdout",
     "output_type": "stream",
     "text": [
      "0.7804878048780488\n"
     ]
    }
   ],
   "source": [
    "from sklearn.metrics import f1_score\n",
    "f1 = f1_score(y_test, pred)\n",
    "print(f1)"
   ]
  },
  {
   "cell_type": "code",
   "execution_count": 53,
   "metadata": {},
   "outputs": [],
   "source": [
    "# 함수에 f1 추가\n",
    "def get_clf_eval(y_test, pred):\n",
    "    confusion = confusion_matrix(y_test, pred)\n",
    "    accuracy = accuracy_score(y_test, pred)\n",
    "    precision = precision_score(y_test, pred)\n",
    "    recall = recall_score(y_test, pred)\n",
    "    f1 = f1_score(y_test, pred)\n",
    "    print(confusion)\n",
    "    print('정확도: {0:.4f}, 정밀도: {1:.4f}, 재현율: {2:.4f}, F1: {3:.4f}'.format(accuracy, precision, recall, f1))"
   ]
  },
  {
   "cell_type": "code",
   "execution_count": 55,
   "metadata": {},
   "outputs": [],
   "source": [
    "def get_eval_by_threshold(y_test, pred_proba_c1, thresholds):\n",
    "    for custom_threshold in thresholds:\n",
    "        binarizer = Binarizer(threshold = custom_threshold).fit(pred_proba_c1)\n",
    "        custom_predict = binarizer.tra\n",
    "        nsform(pred_proba_c1)\n",
    "        print('임곗값: ', custom_threshold)\n",
    "        get_clf_eval(y_test, custom_predict)"
   ]
  },
  {
   "cell_type": "code",
   "execution_count": 56,
   "metadata": {},
   "outputs": [
    {
     "name": "stdout",
     "output_type": "stream",
     "text": [
      "임곗값:  0.4\n",
      "[[99 19]\n",
      " [10 51]]\n",
      "정확도: 0.8380, 정밀도: 0.7286, 재현율: 0.8361, F1: 0.7786\n",
      "임곗값:  0.45\n",
      "[[103  15]\n",
      " [ 12  49]]\n",
      "정확도: 0.8492, 정밀도: 0.7656, 재현율: 0.8033, F1: 0.7840\n",
      "임곗값:  0.5\n",
      "[[104  14]\n",
      " [ 13  48]]\n",
      "정확도: 0.8492, 정밀도: 0.7742, 재현율: 0.7869, F1: 0.7805\n",
      "임곗값:  0.55\n",
      "[[109   9]\n",
      " [ 15  46]]\n",
      "정확도: 0.8659, 정밀도: 0.8364, 재현율: 0.7541, F1: 0.7931\n",
      "임곗값:  0.6\n",
      "[[112   6]\n",
      " [ 16  45]]\n",
      "정확도: 0.8771, 정밀도: 0.8824, 재현율: 0.7377, F1: 0.8036\n"
     ]
    }
   ],
   "source": [
    "thresholds = [0.4, 0.45, 0.5, 0.55, 0.6]\n",
    "pred_proba = lr_clf.predict_proba(X_test)\n",
    "get_eval_by_threshold(y_test, pred_proba[:, 1].reshape(-1, 1), thresholds)"
   ]
  },
  {
   "cell_type": "markdown",
   "metadata": {},
   "source": [
    "- ROC 곡선"
   ]
  },
  {
   "cell_type": "code",
   "execution_count": 57,
   "metadata": {},
   "outputs": [],
   "source": [
    "from sklearn.metrics import roc_curve"
   ]
  },
  {
   "cell_type": "code",
   "execution_count": 77,
   "metadata": {},
   "outputs": [
    {
     "name": "stdout",
     "output_type": "stream",
     "text": [
      "샘플 추출을 위한 임곗값 배열의 index 10개: [ 1  6 11 16 21 26 31 36 41 46 51]\n",
      "샘플용 10개의 임곗값: [0.97 0.65 0.63 0.57 0.45 0.38 0.31 0.13 0.12 0.11 0.1 ]\n",
      "샘플 임곗값별 FPR:  [0.    0.017 0.034 0.076 0.127 0.186 0.237 0.576 0.619 0.754 0.814]\n",
      "샘플 임곗값별 TPR:  [0.033 0.639 0.705 0.754 0.803 0.852 0.902 0.902 0.951 0.967 1.   ]\n"
     ]
    }
   ],
   "source": [
    "pred_proba_class1 = lr_clf.predict_proba(X_test)[:, 1]\n",
    "\n",
    "fprs, tprs, thresholds = roc_curve(y_test, pred_proba_class1)\n",
    "thr_index = np.arange(1, thresholds.shape[0], 5)\n",
    "print('샘플 추출을 위한 임곗값 배열의 index 10개:', thr_index)\n",
    "print('샘플용 10개의 임곗값:',np.round(thresholds[thr_index], 2))\n",
    "print('샘플 임곗값별 FPR: ',np.round(fprs[thr_index], 3))\n",
    "print('샘플 임곗값별 TPR: ',np.round(tprs[thr_index], 3))"
   ]
  },
  {
   "cell_type": "code",
   "execution_count": 75,
   "metadata": {},
   "outputs": [],
   "source": [
    "def roc_curve_plot(y_test, pred_proba_c1):\n",
    "    import matplotlib.pyplot as plt\n",
    "    %matplotlib inline\n",
    "    fprs, tprs, thresholds = roc_curve(y_test, pred_proba_c1)\n",
    "    plt.plot(fprs, tprs, label = 'ROC')\n",
    "    plt.plot([0, 1], [0, 1], 'k--', label = 'Random')\n",
    "    \n",
    "    start, end = plt.xlim()\n",
    "    plt.xticks(np.round(np.arange(start, end, 0.1), 2))\n",
    "    plt.xlim(0, 1)\n",
    "    plt.ylim(0, 1)\n",
    "    plt.xlabel('FPR(1-Sensitivity)')\n",
    "    plt.ylabel('TPR(Recall)')\n",
    "    plt.legend()"
   ]
  },
  {
   "cell_type": "code",
   "execution_count": 76,
   "metadata": {},
   "outputs": [
    {
     "data": {
      "image/png": "[encoded data removed]",
      "text/plain": [
       "<Figure size 432x288 with 1 Axes>"
      ]
     },
     "metadata": {
      "needs_background": "light"
     },
     "output_type": "display_data"
    }
   ],
   "source": [
    "roc_curve_plot(y_test, pred_proba[:, 1])"
   ]
  }
 ],
 "metadata": {
  "kernelspec": {
   "display_name": "Python 3",
   "language": "python",
   "name": "python3"
  },
  "language_info": {
   "codemirror_mode": {
    "name": "ipython",
    "version": 3
   },
   "file_extension": ".py",
   "mimetype": "text/x-python",
   "name": "python",
   "nbconvert_exporter": "python",
   "pygments_lexer": "ipython3",
   "version": "3.7.6"
  }
 },
 "nbformat": 4,
 "nbformat_minor": 4
}
