{
 "cells": [
  {
   "cell_type": "code",
   "execution_count": null,
   "metadata": {},
   "outputs": [],
   "source": [
    "def max(*args):\n",
    "    if a > b:\n",
    "        return a\n",
    "    else:\n",
    "        return b"
   ]
  },
  {
   "cell_type": "code",
   "execution_count": null,
   "metadata": {},
   "outputs": [],
   "source": [
    "a = int(input(\"정수를 입력하세요.\"))\n",
    "print(\"초기 최대값: %d\" %max())"
   ]
  },
  {
   "cell_type": "code",
   "execution_count": null,
   "metadata": {},
   "outputs": [],
   "source": [
    "정수를 입력하세요:19\n",
    "초기 최대값=19\n",
    "정수를 입력하세요:96\n",
    "바뀐 최대값=96\n",
    "정수를 입력하세요:12\n",
    "정수를 입력하세요:10\n",
    "정수를 입력하세요:0\n",
    "최대값=96"
   ]
  },
  {
   "cell_type": "code",
   "execution_count": null,
   "metadata": {},
   "outputs": [],
   "source": [
    "class Queue:\n",
    "    def __init__(self, *args): # 빈 리스트 생성\n",
    "        self.lst = []\n",
    "    def isEmpty(self): # TRUE / FALSE 반환\n",
    "        if len(self.lst) == 0:\n",
    "            return True\n",
    "        else:\n",
    "            return False\n",
    "    def addQueue(self, lst): # 리스트 추가\n",
    "        self.lst.append(lst)\n",
    "        return self.lst\n",
    "    def delQueue(self): # 리스트 삭제\n",
    "        self.lst.pop()\n",
    "        return self.lst\n",
    "\n",
    "que = Queue()\n",
    "    \n",
    "while(1):\n",
    "    a = int(input(\"1 = 리스트 추가 , 2 = 리스트 삭제, 3 = EXIT\"))\n",
    "    if a == 1:\n",
    "        code = str(input(\"what ?\"))\n",
    "        \n",
    "        print(que.addQueue(code))\n",
    "    if a == 2:\n",
    "        print(que.delQueue())\n",
    "    if a == 3:\n",
    "        print(\"프로그램 종료\")\n",
    "        break"
   ]
  },
  {
   "cell_type": "code",
   "execution_count": null,
   "metadata": {},
   "outputs": [],
   "source": [
    "age = input(\"나이를 입력해주세요.\")\n",
    "print(20-int(age),\"년 후면 20살이네요\")\n",
    "\n",
    "age = int(input(\"나이를 입력해주세요.\"))\n",
    "print(20-age,\"년 후면 20살이시네요\")"
   ]
  },
  {
   "cell_type": "code",
   "execution_count": null,
   "metadata": {},
   "outputs": [],
   "source": [
    "num=input(\"영화 관람 인원을 입력해주세요:\")\n",
    "print(\"예매하실 인원은\",num, \"명 입니다.\")"
   ]
  },
  {
   "cell_type": "code",
   "execution_count": null,
   "metadata": {},
   "outputs": [],
   "source": [
    "number = int(input('어디까지 누적합을 구할까요? '))\n",
    "menu = input('홀수 누적은 1 / 짝수의 누적은 2를 누르시오. ')\n",
    "odd = 0\n",
    "\n",
    "if menu == '1':\n",
    "    print(number,'까지 홀수의 누적합')\n",
    "    for num in range(number):\n",
    "        if num % 2 == 1:\n",
    "            odd += num\n",
    "            print('누적합: ',odd)\n",
    "    \n",
    "if menu == '2':\n",
    "    print(number,'까지 짝수의 누적합')\n",
    "    for num in range(1, number):\n",
    "        if num % 2 == 0:\n",
    "            odd += num\n",
    "            print('누적합: ',odd)"
   ]
  },
  {
   "cell_type": "code",
   "execution_count": null,
   "metadata": {},
   "outputs": [],
   "source": [
    "import numpy as np"
   ]
  },
  {
   "cell_type": "code",
   "execution_count": null,
   "metadata": {},
   "outputs": [],
   "source": [
    "score = []\n",
    "with open('scores.txt') as data:\n",
    "    score = data.readlines()\n",
    "#     scores = data.readlines()\n",
    "#     for text in scores:\n",
    "#         text = text.strip('\\n')\n",
    "#         test = text.split(' ')\n",
    "#         score.append(text)"
   ]
  },
  {
   "cell_type": "code",
   "execution_count": null,
   "metadata": {},
   "outputs": [],
   "source": [
    "score"
   ]
  },
  {
   "cell_type": "code",
   "execution_count": null,
   "metadata": {},
   "outputs": [],
   "source": [
    "score"
   ]
  },
  {
   "cell_type": "code",
   "execution_count": null,
   "metadata": {},
   "outputs": [],
   "source": [
    "data_list"
   ]
  },
  {
   "cell_type": "code",
   "execution_count": null,
   "metadata": {},
   "outputs": [],
   "source": [
    "score"
   ]
  },
  {
   "cell_type": "code",
   "execution_count": null,
   "metadata": {},
   "outputs": [],
   "source": [
    "for step in score:\n",
    "    score.append(step.split(' '))"
   ]
  },
  {
   "cell_type": "code",
   "execution_count": null,
   "metadata": {},
   "outputs": [],
   "source": [
    "score"
   ]
  },
  {
   "cell_type": "code",
   "execution_count": null,
   "metadata": {},
   "outputs": [],
   "source": [
    "scores = np.loadtxt('scores.txt')\n",
    "scores_int = scores.astype(int)\n",
    "score = scores_int.mean(axis = 1)\n",
    "\n",
    "ph = '체육: {0:.1f}\\n'.format(score[0])\n",
    "ch = '한자: {0:.1f}\\n'.format(score[1])\n",
    "so = '사회: {0:.1f}\\n'.format(score[2])\n",
    "\n",
    "with open('average.txt', 'w') as f:\n",
    "    f.write('과목별 평균\\n')\n",
    "    f.write(ph)\n",
    "    f.write(ch)\n",
    "    f.write(so)"
   ]
  },
  {
   "cell_type": "code",
   "execution_count": null,
   "metadata": {},
   "outputs": [],
   "source": [
    "score = score.mean(axis = 1)\n",
    "score"
   ]
  },
  {
   "cell_type": "code",
   "execution_count": null,
   "metadata": {},
   "outputs": [],
   "source": [
    "score[0]"
   ]
  },
  {
   "cell_type": "code",
   "execution_count": null,
   "metadata": {},
   "outputs": [],
   "source": [
    "ph = '체육: {0:.1f}\\n'.format(score[0])\n",
    "ch = '한자: {0:.1f}\\n'.format(score[1])\n",
    "so = '사회: {0:.1f}\\n'.format(score[2])"
   ]
  },
  {
   "cell_type": "code",
   "execution_count": null,
   "metadata": {},
   "outputs": [],
   "source": [
    "ph"
   ]
  },
  {
   "cell_type": "code",
   "execution_count": null,
   "metadata": {},
   "outputs": [],
   "source": [
    "with open('average.txt', 'w') as f:\n",
    "    f.write('과목별 평균\\n')\n",
    "    f.write(ph)\n",
    "    f.write(ch)\n",
    "    f.write(so)"
   ]
  },
  {
   "cell_type": "code",
   "execution_count": null,
   "metadata": {},
   "outputs": [],
   "source": [
    "num = np.array([1, 2, 3, 4, 5, 6, 7, 8, 9])\n",
    "num.reshape(-1, 1)"
   ]
  },
  {
   "cell_type": "code",
   "execution_count": null,
   "metadata": {},
   "outputs": [],
   "source": [
    "number = 5000\n",
    "number -= number * 0.05\n",
    "number"
   ]
  },
  {
   "cell_type": "code",
   "execution_count": null,
   "metadata": {},
   "outputs": [],
   "source": [
    "# -0원 이상 -50000원 미만: 5%, 50000 이상 -300000원 미만 : 7.5%, 300000원 이상: 10%\n",
    "def sale(price):\n",
    "    if (price > 0) & (price < 50000):\n",
    "        rate = 0.05\n",
    "        sale_price = price * rate\n",
    "        result = price - sale_price\n",
    "        return rate * 100, sale_price, result\n",
    "    elif (price > 50000) & (price < 300000):\n",
    "        rate = 0.075\n",
    "        sale_price = price * rate\n",
    "        result = price - sale_price\n",
    "        return rate * 100, sale_price, result\n",
    "    elif price > 300000:\n",
    "        sale_price = price * rate\n",
    "        result = price - sale_price\n",
    "        return rate * 100, sale_price, result"
   ]
  },
  {
   "cell_type": "code",
   "execution_count": null,
   "metadata": {},
   "outputs": [],
   "source": [
    "sale(4000)[0]"
   ]
  },
  {
   "cell_type": "code",
   "execution_count": null,
   "metadata": {},
   "outputs": [],
   "source": [
    "상품 가격을 입력하세요: 75000\n",
    "상품 구매가 : 75000\n",
    "할인율 : 7.5%\n",
    "할인 금액: 5625\n",
    "할인 적용 금액: 69375"
   ]
  },
  {
   "cell_type": "code",
   "execution_count": null,
   "metadata": {},
   "outputs": [],
   "source": [
    "def sale(price):\n",
    "    if (price > 0) & (price < 50000):\n",
    "        rate = 0.05\n",
    "        sale_price = price * rate\n",
    "        result = price - sale_price\n",
    "        return rate * 100, sale_price, result\n",
    "    elif (price > 50000) & (price < 300000):\n",
    "        rate = 0.075\n",
    "        sale_price = price * rate\n",
    "        result = price - sale_price\n",
    "        return rate * 100, sale_price, result\n",
    "    elif price > 300000:\n",
    "        sale_price = price * rate\n",
    "        result = price - sale_price\n",
    "        return rate * 100, sale_price, result\n",
    "\n",
    "price = int(input('상품 가격을 입력하세요: '))\n",
    "print('상품 구매가: ', price)\n",
    "print('할인율: {0:.1f}%'.format(sale(price)[0]))\n",
    "print('할인 금액: ', sale(price)[1])\n",
    "print('할인 적용 금액: ', sale(price)[2])"
   ]
  },
  {
   "cell_type": "code",
   "execution_count": null,
   "metadata": {},
   "outputs": [],
   "source": [
    "1. 당해년도 영업 실적에 따라 차년도 연봉이 인상된다.\n",
    "2. 영업 실적이 1억 원 이상일 경우 10% 인상\n",
    "3. 영업 실적이 5천만 원 이상일 경우 5% 인상\n",
    "4. 그 외에는 연봉이 인상되지 않는다.\n",
    "[입력 예시1]\n",
    "50 -> 초봉 (5천만원 입력)\n",
    "3 -> 햇수 (3년)\n",
    "120 -> 영업 실적 (1년차: 1억 2천만원 입력)\n",
    "80 -> 영업 실적 (2년차: 8천만원 입력)\n",
    "45 -> 영업 실적 (3년차: 4천 5백만원 입력)"
   ]
  },
  {
   "cell_type": "code",
   "execution_count": null,
   "metadata": {},
   "outputs": [],
   "source": [
    "minje = int(input('초봉을 입력하세요. (백만원 단위)'))\n",
    "years = int(input('햇수를 입력하세요. '))\n",
    "\n",
    "for year in range(years):\n",
    "    perf = int(input('영업 실적을 입력하세요. (백만원 단위)'))\n",
    "    if perf > 100:\n",
    "        minje += minje * 0.1\n",
    "    elif perf > 50:\n",
    "        minje += minje * 0.05\n",
    "    else:\n",
    "        pass\n",
    "print(\"Number of germs: \", minje*1000000)"
   ]
  },
  {
   "cell_type": "code",
   "execution_count": null,
   "metadata": {},
   "outputs": [],
   "source": [
    "def calc(b, a, c):\n",
    "    if a == '+':\n",
    "        result = b + c\n",
    "    if a == '-':\n",
    "        result = b - c\n",
    "    if a == '*':\n",
    "        result = b * c\n",
    "    if a == '/':\n",
    "        result = b / c\n",
    "    return result\n",
    "\n",
    "a = int(input(\"Operand1 = \"))\n",
    "b = input(\"Operator = \")\n",
    "c = int(input(\"Operand2 = \"))\n",
    "\n",
    "result = calc(a, b, c)\n",
    "print(a, b, c ,'=', result)"
   ]
  },
  {
   "cell_type": "code",
   "execution_count": null,
   "metadata": {},
   "outputs": [],
   "source": []
  },
  {
   "cell_type": "code",
   "execution_count": 22,
   "metadata": {},
   "outputs": [
    {
     "name": "stdout",
     "output_type": "stream",
     "text": [
      "1 번째 행:  [1, 2, 3, 4, 5] \n",
      "2 번째 행:  [6, 7, 8, 9, 10] \n",
      "3 번째 행:  [11, 12, 13, 14, 15] \n",
      "1 번째 행:  15 \n",
      "2 번째 행:  40 \n",
      "3 번째 행:  65 \n"
     ]
    }
   ],
   "source": [
    "garo = 1\n",
    "\n",
    "\n",
    "list2 = []\n",
    "for i in range(0, 3):\n",
    "    list1 = []\n",
    "    for j in range(0, 5):\n",
    "        list1.append(garo)\n",
    "        garo+=1\n",
    "    list2.append(list1)\n",
    "    print(i+1, \"번째 행: \", list2[i],end = ' ')\n",
    "    print(sep = '\\n')\n",
    "for i in range(0,3):\n",
    "    print(i+1, \"번째 행: \", sum(list2[i]),end = ' ')\n",
    "    print(sep = '\\n')"
   ]
  },
  {
   "cell_type": "code",
   "execution_count": 27,
   "metadata": {},
   "outputs": [
    {
     "data": {
      "text/plain": [
       "[11, 12, 13, 14, 15]"
      ]
     },
     "execution_count": 27,
     "metadata": {},
     "output_type": "execute_result"
    }
   ],
   "source": [
    "lambda x: list2[2][::]\n",
    "list2[2][::]"
   ]
  },
  {
   "cell_type": "code",
   "execution_count": 35,
   "metadata": {},
   "outputs": [
    {
     "data": {
      "text/plain": [
       "['qwe', 'asd', 'zxc']"
      ]
     },
     "execution_count": 35,
     "metadata": {},
     "output_type": "execute_result"
    }
   ],
   "source": [
    "st = ['qwe', 'asd', 'zxc']\n",
    "st"
   ]
  },
  {
   "cell_type": "code",
   "execution_count": 48,
   "metadata": {},
   "outputs": [
    {
     "data": {
      "text/plain": [
       "True"
      ]
     },
     "execution_count": 48,
     "metadata": {},
     "output_type": "execute_result"
    }
   ],
   "source": [
    "'s' in st[1]"
   ]
  },
  {
   "cell_type": "code",
   "execution_count": 50,
   "metadata": {},
   "outputs": [],
   "source": [
    "import numpy as np"
   ]
  },
  {
   "cell_type": "code",
   "execution_count": 61,
   "metadata": {},
   "outputs": [
    {
     "data": {
      "text/plain": [
       "(array([], dtype=int64),)"
      ]
     },
     "execution_count": 61,
     "metadata": {},
     "output_type": "execute_result"
    }
   ],
   "source": [
    "np.where('x' in st[0])"
   ]
  },
  {
   "cell_type": "code",
   "execution_count": 3,
   "metadata": {},
   "outputs": [
    {
     "data": {
      "text/plain": [
       "191"
      ]
     },
     "execution_count": 3,
     "metadata": {},
     "output_type": "execute_result"
    }
   ],
   "source": [
    "s = 1\n",
    "for i in range(20):\n",
    "    s += i\n",
    "    s\n",
    "s"
   ]
  },
  {
   "cell_type": "code",
   "execution_count": 20,
   "metadata": {},
   "outputs": [
    {
     "name": "stdout",
     "output_type": "stream",
     "text": [
      "5,2,7\n"
     ]
    },
    {
     "data": {
      "text/plain": [
       "2"
      ]
     },
     "execution_count": 20,
     "metadata": {},
     "output_type": "execute_result"
    }
   ],
   "source": [
    "number = list(map(int, input().split(',')))\n",
    "min(number)"
   ]
  },
  {
   "cell_type": "code",
   "execution_count": 22,
   "metadata": {},
   "outputs": [
    {
     "name": "stdout",
     "output_type": "stream",
     "text": [
      "이름: 정승기\n",
      "정승기 반갑습니다.\n",
      "\n",
      "나이: 26\n",
      "34 년 후면 환갑입니다.\n"
     ]
    }
   ],
   "source": [
    "name = input('이름: ')\n",
    "print(name, \"반갑습니다.\\n\")\n",
    "age = int(input('나이: '))\n",
    "val = age - 60\n",
    "print(abs(val),\"년 후면 환갑입니다.\")"
   ]
  },
  {
   "cell_type": "code",
   "execution_count": null,
   "metadata": {},
   "outputs": [],
   "source": []
  }
 ],
 "metadata": {
  "kernelspec": {
   "display_name": "Python 3",
   "language": "python",
   "name": "python3"
  },
  "language_info": {
   "codemirror_mode": {
    "name": "ipython",
    "version": 3
   },
   "file_extension": ".py",
   "mimetype": "text/x-python",
   "name": "python",
   "nbconvert_exporter": "python",
   "pygments_lexer": "ipython3",
   "version": "3.7.6"
  }
 },
 "nbformat": 4,
 "nbformat_minor": 4
}
