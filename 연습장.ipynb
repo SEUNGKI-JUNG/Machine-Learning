{
 "cells": [
  {
   "cell_type": "code",
   "execution_count": 15,
   "metadata": {},
   "outputs": [],
   "source": [
    "def max(*args):\n",
    "    if a > b:\n",
    "        return a\n",
    "    else:\n",
    "        return b"
   ]
  },
  {
   "cell_type": "code",
   "execution_count": 16,
   "metadata": {},
   "outputs": [
    {
     "name": "stdout",
     "output_type": "stream",
     "text": [
      "정수를 입력하세요.19\n"
     ]
    },
    {
     "ename": "NameError",
     "evalue": "name 'b' is not defined",
     "output_type": "error",
     "traceback": [
      "\u001b[1;31m---------------------------------------------------------------------------\u001b[0m",
      "\u001b[1;31mNameError\u001b[0m                                 Traceback (most recent call last)",
      "\u001b[1;32m<ipython-input-16-b5d0206f90a8>\u001b[0m in \u001b[0;36m<module>\u001b[1;34m\u001b[0m\n\u001b[0;32m      1\u001b[0m \u001b[0ma\u001b[0m \u001b[1;33m=\u001b[0m \u001b[0mint\u001b[0m\u001b[1;33m(\u001b[0m\u001b[0minput\u001b[0m\u001b[1;33m(\u001b[0m\u001b[1;34m\"정수를 입력하세요.\"\u001b[0m\u001b[1;33m)\u001b[0m\u001b[1;33m)\u001b[0m\u001b[1;33m\u001b[0m\u001b[1;33m\u001b[0m\u001b[0m\n\u001b[1;32m----> 2\u001b[1;33m \u001b[0mprint\u001b[0m\u001b[1;33m(\u001b[0m\u001b[1;34m\"초기 최대값: %d\"\u001b[0m \u001b[1;33m%\u001b[0m\u001b[0mmax\u001b[0m\u001b[1;33m(\u001b[0m\u001b[1;33m)\u001b[0m\u001b[1;33m)\u001b[0m\u001b[1;33m\u001b[0m\u001b[1;33m\u001b[0m\u001b[0m\n\u001b[0m",
      "\u001b[1;32m<ipython-input-15-70985823e198>\u001b[0m in \u001b[0;36mmax\u001b[1;34m(*args)\u001b[0m\n\u001b[0;32m      1\u001b[0m \u001b[1;32mdef\u001b[0m \u001b[0mmax\u001b[0m\u001b[1;33m(\u001b[0m\u001b[1;33m*\u001b[0m\u001b[0margs\u001b[0m\u001b[1;33m)\u001b[0m\u001b[1;33m:\u001b[0m\u001b[1;33m\u001b[0m\u001b[1;33m\u001b[0m\u001b[0m\n\u001b[1;32m----> 2\u001b[1;33m     \u001b[1;32mif\u001b[0m \u001b[0ma\u001b[0m \u001b[1;33m>\u001b[0m \u001b[0mb\u001b[0m\u001b[1;33m:\u001b[0m\u001b[1;33m\u001b[0m\u001b[1;33m\u001b[0m\u001b[0m\n\u001b[0m\u001b[0;32m      3\u001b[0m         \u001b[1;32mreturn\u001b[0m \u001b[0ma\u001b[0m\u001b[1;33m\u001b[0m\u001b[1;33m\u001b[0m\u001b[0m\n\u001b[0;32m      4\u001b[0m     \u001b[1;32melse\u001b[0m\u001b[1;33m:\u001b[0m\u001b[1;33m\u001b[0m\u001b[1;33m\u001b[0m\u001b[0m\n\u001b[0;32m      5\u001b[0m         \u001b[1;32mreturn\u001b[0m \u001b[0mb\u001b[0m\u001b[1;33m\u001b[0m\u001b[1;33m\u001b[0m\u001b[0m\n",
      "\u001b[1;31mNameError\u001b[0m: name 'b' is not defined"
     ]
    }
   ],
   "source": [
    "a = int(input(\"정수를 입력하세요.\"))\n",
    "print(\"초기 최대값: %d\" %max())"
   ]
  },
  {
   "cell_type": "code",
   "execution_count": null,
   "metadata": {},
   "outputs": [],
   "source": [
    "정수를 입력하세요:19\n",
    "초기 최대값=19\n",
    "정수를 입력하세요:96\n",
    "바뀐 최대값=96\n",
    "정수를 입력하세요:12\n",
    "정수를 입력하세요:10\n",
    "정수를 입력하세요:0\n",
    "최대값=96"
   ]
  },
  {
   "cell_type": "code",
   "execution_count": 7,
   "metadata": {},
   "outputs": [
    {
     "name": "stdout",
     "output_type": "stream",
     "text": [
      "1 = 리스트 추가 , 2 = 리스트 삭제, 3 = EXIT1\n",
      "what ?54\n",
      "['54']\n",
      "1 = 리스트 추가 , 2 = 리스트 삭제, 3 = EXIT1\n",
      "what ?12\n",
      "['54', '12']\n",
      "1 = 리스트 추가 , 2 = 리스트 삭제, 3 = EXIT6\n",
      "1 = 리스트 추가 , 2 = 리스트 삭제, 3 = EXIT21\n",
      "1 = 리스트 추가 , 2 = 리스트 삭제, 3 = EXIT1\n",
      "what ?54\n",
      "['54', '12', '54']\n",
      "1 = 리스트 추가 , 2 = 리스트 삭제, 3 = EXIT2\n",
      "['54', '12']\n",
      "1 = 리스트 추가 , 2 = 리스트 삭제, 3 = EXIT2\n",
      "['54']\n",
      "1 = 리스트 추가 , 2 = 리스트 삭제, 3 = EXIT2\n",
      "[]\n",
      "1 = 리스트 추가 , 2 = 리스트 삭제, 3 = EXIT\n"
     ]
    },
    {
     "ename": "ValueError",
     "evalue": "invalid literal for int() with base 10: ''",
     "output_type": "error",
     "traceback": [
      "\u001b[1;31m---------------------------------------------------------------------------\u001b[0m",
      "\u001b[1;31mValueError\u001b[0m                                Traceback (most recent call last)",
      "\u001b[1;32m<ipython-input-7-b8f62d7e93e2>\u001b[0m in \u001b[0;36m<module>\u001b[1;34m\u001b[0m\n\u001b[0;32m     18\u001b[0m \u001b[1;32mwhile\u001b[0m\u001b[1;33m(\u001b[0m\u001b[1;36m1\u001b[0m\u001b[1;33m)\u001b[0m\u001b[1;33m:\u001b[0m\u001b[1;33m\u001b[0m\u001b[1;33m\u001b[0m\u001b[0m\n\u001b[0;32m     19\u001b[0m \u001b[1;31m#     print(\"현재 리스트 : \", que.__init__() , \"빈 리스트인가요? \", que.isEmpty())\u001b[0m\u001b[1;33m\u001b[0m\u001b[1;33m\u001b[0m\u001b[1;33m\u001b[0m\u001b[0m\n\u001b[1;32m---> 20\u001b[1;33m     \u001b[0ma\u001b[0m \u001b[1;33m=\u001b[0m \u001b[0mint\u001b[0m\u001b[1;33m(\u001b[0m\u001b[0minput\u001b[0m\u001b[1;33m(\u001b[0m\u001b[1;34m\"1 = 리스트 추가 , 2 = 리스트 삭제, 3 = EXIT\"\u001b[0m\u001b[1;33m)\u001b[0m\u001b[1;33m)\u001b[0m\u001b[1;33m\u001b[0m\u001b[1;33m\u001b[0m\u001b[0m\n\u001b[0m\u001b[0;32m     21\u001b[0m     \u001b[1;32mif\u001b[0m \u001b[0ma\u001b[0m \u001b[1;33m==\u001b[0m \u001b[1;36m1\u001b[0m\u001b[1;33m:\u001b[0m\u001b[1;33m\u001b[0m\u001b[1;33m\u001b[0m\u001b[0m\n\u001b[0;32m     22\u001b[0m         \u001b[0mcode\u001b[0m \u001b[1;33m=\u001b[0m \u001b[0mstr\u001b[0m\u001b[1;33m(\u001b[0m\u001b[0minput\u001b[0m\u001b[1;33m(\u001b[0m\u001b[1;34m\"what ?\"\u001b[0m\u001b[1;33m)\u001b[0m\u001b[1;33m)\u001b[0m\u001b[1;33m\u001b[0m\u001b[1;33m\u001b[0m\u001b[0m\n",
      "\u001b[1;31mValueError\u001b[0m: invalid literal for int() with base 10: ''"
     ]
    }
   ],
   "source": [
    "class Queue:\n",
    "    def __init__(self, *args): # 빈 리스트 생성\n",
    "        self.lst = []\n",
    "    def isEmpty(self): # TRUE / FALSE 반환\n",
    "        if len(self.lst) == 0:\n",
    "            return True\n",
    "        else:\n",
    "            return False\n",
    "    def addQueue(self, lst): # 리스트 추가\n",
    "        self.lst.append(lst)\n",
    "        return self.lst\n",
    "    def delQueue(self): # 리스트 삭제\n",
    "        self.lst.pop()\n",
    "        return self.lst\n",
    "\n",
    "que = Queue()\n",
    "    \n",
    "while(1):\n",
    "    a = int(input(\"1 = 리스트 추가 , 2 = 리스트 삭제, 3 = EXIT\"))\n",
    "    if a == 1:\n",
    "        code = str(input(\"what ?\"))\n",
    "        \n",
    "        print(que.addQueue(code))\n",
    "    if a == 2:\n",
    "        print(que.delQueue())\n",
    "    if a == 3:\n",
    "        print(\"프로그램 종료\")\n",
    "        break"
   ]
  },
  {
   "cell_type": "code",
   "execution_count": 5,
   "metadata": {},
   "outputs": [
    {
     "name": "stdout",
     "output_type": "stream",
     "text": [
      "나이를 입력해주세요.12\n",
      "8 년 후면 20살이네요\n",
      "나이를 입력해주세요.12\n",
      "8 년 후면 20살이시네요\n"
     ]
    }
   ],
   "source": [
    "age = input(\"나이를 입력해주세요.\")\n",
    "print(20-int(age),\"년 후면 20살이네요\")\n",
    "\n",
    "age = int(input(\"나이를 입력해주세요.\"))\n",
    "print(20-age,\"년 후면 20살이시네요\")"
   ]
  },
  {
   "cell_type": "code",
   "execution_count": 6,
   "metadata": {},
   "outputs": [
    {
     "name": "stdout",
     "output_type": "stream",
     "text": [
      "영화 관람 인원을 입력해주세요:12\n",
      "예매하실 인원은 12 명 입니다.\n"
     ]
    }
   ],
   "source": [
    "num=input(\"영화 관람 인원을 입력해주세요:\")\n",
    "print(\"예매하실 인원은\",num, \"명 입니다.\")"
   ]
  },
  {
   "cell_type": "code",
   "execution_count": null,
   "metadata": {},
   "outputs": [],
   "source": []
  }
 ],
 "metadata": {
  "kernelspec": {
   "display_name": "Python 3",
   "language": "python",
   "name": "python3"
  },
  "language_info": {
   "codemirror_mode": {
    "name": "ipython",
    "version": 3
   },
   "file_extension": ".py",
   "mimetype": "text/x-python",
   "name": "python",
   "nbconvert_exporter": "python",
   "pygments_lexer": "ipython3",
   "version": "3.7.6"
  }
 },
 "nbformat": 4,
 "nbformat_minor": 4
}
